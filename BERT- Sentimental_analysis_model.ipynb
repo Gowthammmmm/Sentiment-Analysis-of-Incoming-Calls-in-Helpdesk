{
 "cells": [
  {
   "cell_type": "code",
   "execution_count": null,
   "id": "5907c603",
   "metadata": {},
   "outputs": [],
   "source": [
    "#!pip install torch==1.8.1+cu111 torchvision==0.9.1+cu111 torchaudio===0.8.1 -f https://download.pytorch.org/whl/torch_stable.html"
   ]
  },
  {
   "cell_type": "code",
   "execution_count": null,
   "id": "9fc3d9d7",
   "metadata": {},
   "outputs": [],
   "source": [
    "#!pip install transformers requests beautifulsoup4 pandas numpy"
   ]
  },
  {
   "cell_type": "code",
   "execution_count": 1,
   "id": "9be66821",
   "metadata": {},
   "outputs": [
    {
     "name": "stderr",
     "output_type": "stream",
     "text": [
      "D:\\workspace\\lib\\site-packages\\tqdm\\auto.py:21: TqdmWarning: IProgress not found. Please update jupyter and ipywidgets. See https://ipywidgets.readthedocs.io/en/stable/user_install.html\n",
      "  from .autonotebook import tqdm as notebook_tqdm\n"
     ]
    }
   ],
   "source": [
    "from transformers import AutoTokenizer, AutoModelForSequenceClassification\n",
    "import torch\n",
    "import requests\n",
    "from bs4 import BeautifulSoup\n",
    "import re"
   ]
  },
  {
   "cell_type": "code",
   "execution_count": 2,
   "id": "d0541d84",
   "metadata": {},
   "outputs": [],
   "source": [
    "tokenizer = AutoTokenizer.from_pretrained('nlptown/bert-base-multilingual-uncased-sentiment')\n",
    "\n",
    "model = AutoModelForSequenceClassification.from_pretrained('nlptown/bert-base-multilingual-uncased-sentiment')"
   ]
  },
  {
   "cell_type": "code",
   "execution_count": 3,
   "id": "3d1f6ca0",
   "metadata": {},
   "outputs": [],
   "source": [
    "tokens = tokenizer.encode('It was good but couldve been better. Great', return_tensors='pt')"
   ]
  },
  {
   "cell_type": "code",
   "execution_count": 4,
   "id": "2762a363",
   "metadata": {},
   "outputs": [],
   "source": [
    "result = model(tokens)"
   ]
  },
  {
   "cell_type": "code",
   "execution_count": 5,
   "id": "1bd8f68f",
   "metadata": {},
   "outputs": [
    {
     "data": {
      "text/plain": [
       "tensor([[-2.7768, -1.2353,  1.4419,  1.9804,  0.4584]],\n",
       "       grad_fn=<AddmmBackward0>)"
      ]
     },
     "execution_count": 5,
     "metadata": {},
     "output_type": "execute_result"
    }
   ],
   "source": [
    "result.logits"
   ]
  },
  {
   "cell_type": "code",
   "execution_count": 6,
   "id": "ac121db6",
   "metadata": {},
   "outputs": [
    {
     "data": {
      "text/plain": [
       "4"
      ]
     },
     "execution_count": 6,
     "metadata": {},
     "output_type": "execute_result"
    }
   ],
   "source": [
    "int(torch.argmax(result.logits))+1"
   ]
  },
  {
   "cell_type": "code",
   "execution_count": 10,
   "id": "bbfc8154",
   "metadata": {},
   "outputs": [],
   "source": [
    "r = requests.get('https://www.yelp.com/biz/social-brew-cafe-pyrmont')\n",
    "soup = BeautifulSoup(r.text, 'html.parser')\n",
    "regex = re.compile('.*comment.*')\n",
    "results = soup.find_all('p', {'class':regex})\n",
    "reviews = [result.text for result in results]"
   ]
  },
  {
   "cell_type": "code",
   "execution_count": 8,
   "id": "d3531f0f",
   "metadata": {},
   "outputs": [],
   "source": [
    "reviews = [\n",
    "    \"The food was amazing, and the service was excellent!\",\n",
    "    \"I had a terrible experience. The food was cold and the staff was rude.\",\n",
    "    \"Great ambiance and friendly staff. The coffee was delicious.\",\n",
    "    \"The restaurant was clean and well-maintained. I highly recommend it.\",\n",
    "    \"Disappointing experience. The portion sizes were small, and the prices were high.\",\n",
    "    \"Fantastic place! The atmosphere is cozy, and the menu has a good variety of options.\",\n",
    "    \"I didn't enjoy my visit. The food took too long to arrive, and it wasn't worth the wait.\",\n",
    "    \"Lovely spot for brunch. The pancakes were fluffy, and the coffee was brewed to perfection.\",\n",
    "    \"The service was slow, but the food made up for it. Overall, a decent experience.\",\n",
    "    \"Not impressed. The food lacked flavor, and the prices were unjustified.\"\n",
    "]\n"
   ]
  },
  {
   "cell_type": "code",
   "execution_count": 11,
   "id": "329f5afb",
   "metadata": {},
   "outputs": [
    {
     "name": "stdout",
     "output_type": "stream",
     "text": [
      "Review: The food was delicious. The ricotta pancakes were light and tasty.  The cream brûlée French toast was a fruit lovers delight. There was fresh strawberries, blueberries, passion fruit and custard. No syrup required. And crispy kale as a side ordered with eggs. Worth the walk over the Pyrmont bridge.\n",
      "Sentiment: 4\n",
      "\n",
      "Review: Very cute coffee shop and restaurant. They have a lovely outdoor seating area and several tables inside.  It was fairly busy on a Tuesday morning but we were to grab the last open table. The server was so enjoyable, she chatted and joked with us and provided fast service with our ordering, drinks and meals. The food was very good. We ordered a wide variety and every meal was good to delicious. The sweet potato fries on the Chicken Burger plate were absolutely delicious, some of the best I've ever had. I definitely enjoyed this cafe, the outdoor seating, the service and the food!!\n",
      "Sentiment: 5\n",
      "\n",
      "Review: Ordered coffee which Combines cozy ambiance with delicious coffee and innovative dishes. A must-visit spot for foodies and coffee enthusiasts\n",
      "Sentiment: 5\n",
      "\n",
      "Review: Six of us met here for breakfast before our walk to Manly. We were enjoying visiting with each other so much that I apologize for not taking any photos. We all enjoyed our food, as well as our coffee and tea drinks.We were greeted immediately by a friendly server asking if we would like to sit inside or out. We said we would like inside, but weren't exactly sure how many were joining us yet- at least 4. We were told this was no problem, the more the merrier. A few minutes later when 4 more joined our party and we explained to the server we had 6, he just quickly switched our table. I really enjoyed my serenity tea, just what I needed after a long flight in from Sfo that morning. Everyone else were more interested in the lattes for expresso drinks. All said they were hot and delicious. 2 of us ordered the avo on toast. So yummy with the beetroot... I will start adding this to mine now at home, and have fond memories for my trip to Sydney. 2 friends ordered the salmon Benedict- saying it was delicious, and their go to every time they come here. 2 friends had a breakfast sandwich- I'm not sure of the name. It did look delicious. Adorable cafe, friendly staff, clean restroomsVery popular with the locals. I plan to come back the next time I'm in Sydney\n",
      "Sentiment: 4\n",
      "\n",
      "Review: Great place with delicious food and friendly staff. It is small but has outdoor seating and a relaxed ambiance. Perfect place to enjoy a cup of coffee. I am visiting Sydney for the first time but this place seems like is a local favorite.\n",
      "Sentiment: 5\n",
      "\n",
      "Review: Great service, lovely location, and really amazing food. Words don't do justice. We had the mushroom parm bruschetta and the loaded double double. Both were so tasty. Also love the Aussie black tea and a flat white. Wish I had more mornings in Sydney to eat breakfast there. Highly recommend.\n",
      "Sentiment: 5\n",
      "\n",
      "Review: Great food amazing coffee and tea. Short walk from the harbor. Staff was very friendly\n",
      "Sentiment: 5\n",
      "\n",
      "Review: Ricotta hot cakes! These were so yummy. I ate them pretty fast and didn't share with anyone because they were that good ;). I ordered a green smoothie to balance it all out. Smoothie was a nice way to end my brekkie at this restaurant. Others with me ordered the salmon Benedict and the smoked salmon flatbread. They were all delicious and all plates were empty. Cheers!\n",
      "Sentiment: 5\n",
      "\n",
      "Review: It was ok. Had coffee with my friends. I'm new in the area, still need to discover new places.\n",
      "Sentiment: 3\n",
      "\n",
      "Review: We came for brunch twice in our week-long visit to Sydney. Everything on the menu not only sounds delicious, but is really tasty. It really gave us a sour taste of how bad breaky is in America with what's so readily available in Sydney!  Both days we went were Saturdays and there was a bit of a wait to be seated, the cafe is extremely busy for both dine-in and take-away. Service is fairly quick and servers are all friendly. The location is in Surrey Hills a couple blocks away from the bustling touristy Darling Harbor.The green smoothie is very tasty and refreshing. We tried the smoked salmon salad, the soft shell crab tacos, ricotta hotcakes, and the breaky sandwich. All were delicious, well seasoned, and a solid amount of food for the price. A definite recommend for anyone's trip into Sydney!\n",
      "Sentiment: 5\n",
      "\n"
     ]
    }
   ],
   "source": [
    "for review in reviews:\n",
    "    # Tokenize the review text\n",
    "    tokens = tokenizer.encode(review, return_tensors='pt')\n",
    "    \n",
    "    # Pass the tokens through the model\n",
    "    result = model(tokens)\n",
    "    \n",
    "    # Get the predicted sentiment (1 for negative, 5 for positive)\n",
    "    sentiment = int(torch.argmax(result.logits)) + 1\n",
    "    \n",
    "    # Print the review and its sentiment\n",
    "    print(f\"Review: {review}\")\n",
    "    print(f\"Sentiment: {sentiment}\\n\")"
   ]
  },
  {
   "cell_type": "code",
   "execution_count": 12,
   "id": "b9154f25",
   "metadata": {},
   "outputs": [],
   "source": [
    "def predict_sentiment(review):\n",
    "    tokens = tokenizer.encode(review, return_tensors='pt')\n",
    "    result = model(tokens)\n",
    "    sentiment_label = int(torch.argmax(result.logits)) + 1\n",
    "    return sentiment_label"
   ]
  },
  {
   "cell_type": "code",
   "execution_count": 13,
   "id": "b5c2bdbd",
   "metadata": {},
   "outputs": [],
   "source": [
    "sentiment_names = {\n",
    "    1: \"Very Negative\",\n",
    "    2: \"Negative\",\n",
    "    3: \"Neutral\",\n",
    "    4: \"Positive\",\n",
    "    5: \"Very Positive\"\n",
    "}"
   ]
  },
  {
   "cell_type": "code",
   "execution_count": 15,
   "id": "c280a8de",
   "metadata": {},
   "outputs": [],
   "source": [
    "sentiments = [predict_sentiment(review) for review in sample_reviews]"
   ]
  },
  {
   "cell_type": "code",
   "execution_count": 16,
   "id": "31d76850",
   "metadata": {},
   "outputs": [
    {
     "name": "stdout",
     "output_type": "stream",
     "text": [
      "Review 1: The food was terrible, would not recommend. - Sentiment: Very Negative\n",
      "Review 2: Service was slow and the staff was rude. - Sentiment: Negative\n",
      "Review 3: Average experience, nothing special. - Sentiment: Neutral\n",
      "Review 4: Great ambiance and delicious food! - Sentiment: Very Positive\n",
      "Review 5: Best cafe in town, highly recommended! - Sentiment: Very Positive\n"
     ]
    }
   ],
   "source": [
    "sample_reviews = [\n",
    "    \"The food was terrible, would not recommend.\",\n",
    "    \"Service was slow and the staff was rude.\",\n",
    "    \"Average experience, nothing special.\",\n",
    "    \"Great ambiance and delicious food!\",\n",
    "    \"Best cafe in town, highly recommended!\"\n",
    "]\n",
    "for i, review in enumerate(sample_reviews):\n",
    "    print(f\"Review {i+1}: {review} - Sentiment: {sentiment_names[sentiments[i]]}\")"
   ]
  },
  {
   "cell_type": "code",
   "execution_count": 24,
   "id": "021ba6b7",
   "metadata": {},
   "outputs": [
    {
     "name": "stdout",
     "output_type": "stream",
     "text": [
      "Model and tokenizer saved successfully to: D:\\workspace\\codespace\\Sentimental analysis\\bert_sentiment_model\n"
     ]
    }
   ],
   "source": [
    "# Define the directory where you want to save the model\n",
    "output_dir = r\"D:\\workspace\\codespace\\Sentimental analysis\\bert_sentiment_model\"\n",
    "\n",
    "# Save the tokenizer and model to the specified directory\n",
    "tokenizer.save_pretrained(output_dir)\n",
    "model.save_pretrained(output_dir)\n",
    "\n",
    "print(\"Model and tokenizer saved successfully to:\", output_dir)\n"
   ]
  },
  {
   "cell_type": "code",
   "execution_count": 28,
   "id": "c7ada64d",
   "metadata": {},
   "outputs": [
    {
     "name": "stdout",
     "output_type": "stream",
     "text": [
      "Review: This restaurant is amazing!\n",
      "Predicted Sentiment: Very Positive\n",
      "\n",
      "Review: The food was delicious but the service was slow.\n",
      "Predicted Sentiment: Neutral\n",
      "\n",
      "Review: I had a terrible experience at this place.\n",
      "Predicted Sentiment: Very Negative\n",
      "\n"
     ]
    }
   ],
   "source": [
    "from transformers import AutoTokenizer, AutoModelForSequenceClassification\n",
    "\n",
    "# Define the directory where the model and tokenizer are saved\n",
    "saved_model_dir = r\"D:\\workspace\\codespace\\Sentimental analysis\\bert_sentiment_model\"\n",
    "\n",
    "# Load the tokenizer\n",
    "tokenizer = AutoTokenizer.from_pretrained(saved_model_dir)\n",
    "\n",
    "# Load the model\n",
    "model = AutoModelForSequenceClassification.from_pretrained(saved_model_dir)\n",
    "\n",
    "# List of reviews\n",
    "reviews = [\"This restaurant is amazing!\",\n",
    "           \"The food was delicious but the service was slow.\",\n",
    "           \"I had a terrible experience at this place.\"]\n",
    "\n",
    "# Tokenize the reviews\n",
    "encoded_inputs = tokenizer(reviews, padding=True, truncation=True, return_tensors='pt')\n",
    "\n",
    "# Perform inference\n",
    "with torch.no_grad():\n",
    "    outputs = model(**encoded_inputs)\n",
    "\n",
    "# Extract predicted sentiment scores\n",
    "predicted_scores = torch.softmax(outputs.logits, dim=1)\n",
    "\n",
    "# Convert scores to human-readable labels\n",
    "sentiment_labels = [\"Very Negative\",\"Negative\",\"Neutral\",\"Positive\",\"Very Positive\"]\n",
    "predicted_labels = [sentiment_labels[p.argmax().item()] for p in predicted_scores]\n",
    "\n",
    "# Print predicted sentiment labels for each review\n",
    "for review, label in zip(reviews, predicted_labels):\n",
    "    print(f\"Review: {review}\")\n",
    "    print(f\"Predicted Sentiment: {label}\")\n",
    "    print()\n"
   ]
  },
  {
   "cell_type": "code",
   "execution_count": null,
   "id": "4c731872",
   "metadata": {},
   "outputs": [],
   "source": []
  }
 ],
 "metadata": {
  "kernelspec": {
   "display_name": "Python 3 (ipykernel)",
   "language": "python",
   "name": "python3"
  },
  "language_info": {
   "codemirror_mode": {
    "name": "ipython",
    "version": 3
   },
   "file_extension": ".py",
   "mimetype": "text/x-python",
   "name": "python",
   "nbconvert_exporter": "python",
   "pygments_lexer": "ipython3",
   "version": "3.10.13"
  }
 },
 "nbformat": 4,
 "nbformat_minor": 5
}
